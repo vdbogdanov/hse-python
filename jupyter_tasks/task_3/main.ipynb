{
 "cells": [
  {
   "cell_type": "markdown",
   "metadata": {},
   "source": [
    "### Задание 1\n",
    "\n",
    "Реализуйте функцию sum_distance(from, to), которая суммирует все числа от\n",
    "значения from до величины to включительно.\n",
    "\n",
    "Примечание. Если пользователь задаст первое число, которое окажется\n",
    "больше второго, просто поменяйте их местами."
   ]
  },
  {
   "cell_type": "code",
   "execution_count": null,
   "metadata": {},
   "outputs": [
    {
     "data": {
      "text/plain": [
       "45"
      ]
     },
     "execution_count": 2,
     "metadata": {},
     "output_type": "execute_result"
    }
   ],
   "source": [
    "def sum_distance(first_num, second_num):\n",
    "    if first_num > second_num:\n",
    "        first_num, second_num = second_num, first_num\n",
    "    return sum([first_num + next_num for next_num in range(second_num - first_num + 1)])\n",
    "\n",
    "\n",
    "sum_distance(10, 5)"
   ]
  },
  {
   "cell_type": "markdown",
   "metadata": {},
   "source": [
    "### Задание 2\n",
    "\n",
    "Реализуйте функцию trim_and_repeat(), которая принимает три параметра:\n",
    "* строку;\n",
    "* offset — число символов, на которое нужно обрезать строку слева;\n",
    "* repetitions — сколько раз нужно повторить строку перед возвратом получившейся строки.\n",
    "\n",
    "Число символов для среза по умолчанию равно 0, а количество повторений - 1.\n",
    "\n",
    "Функция должна возвращать полученную строку."
   ]
  },
  {
   "cell_type": "code",
   "execution_count": 3,
   "metadata": {},
   "outputs": [
    {
     "data": {
      "text/plain": [
       "'tingtingting'"
      ]
     },
     "execution_count": 3,
     "metadata": {},
     "output_type": "execute_result"
    }
   ],
   "source": [
    "def trim_and_repeat(source_string, offset = 0, repetitions = 1):\n",
    "    source_string: str = source_string[offset:]\n",
    "    return source_string * repetitions\n",
    "\n",
    "trim_and_repeat('testing', 3, 3)"
   ]
  }
 ],
 "metadata": {
  "kernelspec": {
   "display_name": "venv",
   "language": "python",
   "name": "python3"
  },
  "language_info": {
   "codemirror_mode": {
    "name": "ipython",
    "version": 3
   },
   "file_extension": ".py",
   "mimetype": "text/x-python",
   "name": "python",
   "nbconvert_exporter": "python",
   "pygments_lexer": "ipython3",
   "version": "3.13.0"
  }
 },
 "nbformat": 4,
 "nbformat_minor": 2
}
