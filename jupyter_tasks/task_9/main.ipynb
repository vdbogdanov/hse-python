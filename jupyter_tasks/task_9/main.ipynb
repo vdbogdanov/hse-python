{
 "cells": [
  {
   "cell_type": "markdown",
   "metadata": {},
   "source": [
    "### Задание\n",
    "\n",
    "Этап 1. Подготовка данных\n",
    "Скачайте файл с набором данных событий информационной безопасности в формате JSON (events.json).\n",
    "Важно: можно сгенерировать данные самостоятельно или использовать предоставленные.\n",
    "\n",
    "Этап 2. Анализ данных\n",
    "Загрузите данные из файла JSON в датафрейм с помощью Pandas и проанализируйте их.\n",
    "Вы должны изучить распределение событий информационной безопасности по их типам (по полю «signature»).\n",
    "\n",
    "Этап 3. Визуализация данных\n",
    "Постройте график распределения типов событий информационной безопасности.\n",
    "Используйте Seaborn или Matplotlib для создания визуализации."
   ]
  },
  {
   "cell_type": "code",
   "execution_count": 3,
   "metadata": {},
   "outputs": [
    {
     "data": {
      "application/vnd.plotly.v1+json": {
       "config": {
        "plotlyServerURL": "https://plot.ly"
       },
       "data": [
        {
         "domain": {
          "x": [
           0,
           1
          ],
          "y": [
           0,
           1
          ]
         },
         "hovertemplate": "signature=%{label}<extra></extra>",
         "labels": [
          "MALWARE-CNC Win.Trojan.Jadtre variant outbound connection",
          "EXPLOIT Remote Windows Win32k elevation of privilege attempt",
          "EXPLOIT Java JRE to Oracle WebLogic RCE",
          "NETBIOS DCERPC NCACN-IP-TCP interfaces BO",
          "MALWARE-CNC User-Agent known malicious connecting IP",
          "INDICATOR-COMPROMISE Suspicious inbound to mySQL port 3306",
          "EXPLOIT Multiple IIS 6.0 attempt",
          "EXPLOIT Oracle 9i TNS Listener BO",
          "NETBIOS SMB-DS srvsvc NetrPathCanonicalize BO",
          "MALWARE-CNC Win.Trojan.Jadtre variant outbound connection",
          "EXPLOIT Remote Windows Win32k elevation of privilege attempt",
          "EXPLOIT Java JRE to Oracle WebLogic RCE",
          "NETBIOS DCERPC NCACN-IP-TCP interfaces BO",
          "MALWARE-CNC User-Agent known malicious connecting IP",
          "INDICATOR-COMPROMISE Suspicious inbound to mySQL port 3306",
          "EXPLOIT Multiple IIS 6.0 attempt",
          "EXPLOIT Oracle 9i TNS Listener BO",
          "NETBIOS SMB-DS srvsvc NetrPathCanonicalize BO",
          "MALWARE-CNC Win.Trojan.Jadtre variant outbound connection",
          "EXPLOIT Remote Windows Win32k elevation of privilege attempt",
          "EXPLOIT Java JRE to Oracle WebLogic RCE",
          "NETBIOS DCERPC NCACN-IP-TCP interfaces BO",
          "MALWARE-CNC User-Agent known malicious connecting IP",
          "INDICATOR-COMPROMISE Suspicious inbound to mySQL port 3306",
          "EXPLOIT Multiple IIS 6.0 attempt",
          "EXPLOIT Oracle 9i TNS Listener BO",
          "NETBIOS SMB-DS srvsvc NetrPathCanonicalize BO",
          "MALWARE-CNC Win.Trojan.Jadtre variant outbound connection",
          "EXPLOIT Remote Windows Win32k elevation of privilege attempt",
          "EXPLOIT Java JRE to Oracle WebLogic RCE",
          "NETBIOS DCERPC NCACN-IP-TCP interfaces BO",
          "MALWARE-CNC User-Agent known malicious connecting IP",
          "INDICATOR-COMPROMISE Suspicious inbound to mySQL port 3306",
          "EXPLOIT Multiple IIS 6.0 attempt",
          "EXPLOIT Oracle 9i TNS Listener BO",
          "NETBIOS SMB-DS srvsvc NetrPathCanonicalize BO",
          "MALWARE-CNC Win.Trojan.Jadtre variant outbound connection",
          "EXPLOIT Remote Windows Win32k elevation of privilege attempt",
          "EXPLOIT Java JRE to Oracle WebLogic RCE",
          "NETBIOS DCERPC NCACN-IP-TCP interfaces BO",
          "MALWARE-CNC User-Agent known malicious connecting IP",
          "INDICATOR-COMPROMISE Suspicious inbound to mySQL port 3306",
          "EXPLOIT Multiple IIS 6.0 attempt",
          "EXPLOIT Oracle 9i TNS Listener BO",
          "NETBIOS SMB-DS srvsvc NetrPathCanonicalize BO",
          "MALWARE-CNC Win.Trojan.Jadtre variant outbound connection",
          "EXPLOIT Remote Windows Win32k elevation of privilege attempt",
          "EXPLOIT Java JRE to Oracle WebLogic RCE",
          "NETBIOS DCERPC NCACN-IP-TCP interfaces BO",
          "MALWARE-CNC User-Agent known malicious connecting IP",
          "INDICATOR-COMPROMISE Suspicious inbound to mySQL port 3306",
          "EXPLOIT Multiple IIS 6.0 attempt",
          "EXPLOIT Oracle 9i TNS Listener BO",
          "NETBIOS SMB-DS srvsvc NetrPathCanonicalize BO",
          "MALWARE-CNC Win.Trojan.Jadtre variant outbound connection",
          "EXPLOIT Remote Windows Win32k elevation of privilege attempt",
          "EXPLOIT Java JRE to Oracle WebLogic RCE",
          "NETBIOS DCERPC NCACN-IP-TCP interfaces BO",
          "MALWARE-CNC User-Agent known malicious connecting IP",
          "INDICATOR-COMPROMISE Suspicious inbound to mySQL port 3306",
          "EXPLOIT Multiple IIS 6.0 attempt",
          "EXPLOIT Oracle 9i TNS Listener BO",
          "NETBIOS SMB-DS srvsvc NetrPathCanonicalize BO",
          "MALWARE-CNC Win.Trojan.Jadtre variant outbound connection",
          "EXPLOIT Remote Windows Win32k elevation of privilege attempt",
          "EXPLOIT Java JRE to Oracle WebLogic RCE",
          "NETBIOS DCERPC NCACN-IP-TCP interfaces BO",
          "MALWARE-CNC User-Agent known malicious connecting IP",
          "INDICATOR-COMPROMISE Suspicious inbound to mySQL port 3306",
          "EXPLOIT Multiple IIS 6.0 attempt",
          "EXPLOIT Oracle 9i TNS Listener BO",
          "NETBIOS SMB-DS srvsvc NetrPathCanonicalize BO",
          "MALWARE-CNC Win.Trojan.Jadtre variant outbound connection",
          "EXPLOIT Remote Windows Win32k elevation of privilege attempt",
          "EXPLOIT Java JRE to Oracle WebLogic RCE",
          "NETBIOS DCERPC NCACN-IP-TCP interfaces BO",
          "MALWARE-CNC User-Agent known malicious connecting IP",
          "INDICATOR-COMPROMISE Suspicious inbound to mySQL port 3306",
          "EXPLOIT Multiple IIS 6.0 attempt",
          "EXPLOIT Oracle 9i TNS Listener BO",
          "NETBIOS SMB-DS srvsvc NetrPathCanonicalize BO",
          "MALWARE-CNC Win.Trojan.Jadtre variant outbound connection",
          "EXPLOIT Remote Windows Win32k elevation of privilege attempt",
          "EXPLOIT Java JRE to Oracle WebLogic RCE",
          "NETBIOS DCERPC NCACN-IP-TCP interfaces BO",
          "MALWARE-CNC User-Agent known malicious connecting IP",
          "INDICATOR-COMPROMISE Suspicious inbound to mySQL port 3306",
          "EXPLOIT Multiple IIS 6.0 attempt",
          "EXPLOIT Oracle 9i TNS Listener BO",
          "NETBIOS SMB-DS srvsvc NetrPathCanonicalize BO",
          "MALWARE-CNC Win.Trojan.Jadtre variant outbound connection",
          "EXPLOIT Remote Windows Win32k elevation of privilege attempt",
          "EXPLOIT Java JRE to Oracle WebLogic RCE",
          "NETBIOS DCERPC NCACN-IP-TCP interfaces BO",
          "MALWARE-CNC User-Agent known malicious connecting IP",
          "INDICATOR-COMPROMISE Suspicious inbound to mySQL port 3306",
          "EXPLOIT Multiple IIS 6.0 attempt",
          "EXPLOIT Oracle 9i TNS Listener BO",
          "NETBIOS SMB-DS srvsvc NetrPathCanonicalize BO",
          "MALWARE-CNC Win.Trojan.Jadtre variant outbound connection"
         ],
         "legendgroup": "",
         "name": "",
         "showlegend": true,
         "type": "pie"
        }
       ],
       "layout": {
        "legend": {
         "tracegroupgap": 0
        },
        "template": {
         "data": {
          "bar": [
           {
            "error_x": {
             "color": "#2a3f5f"
            },
            "error_y": {
             "color": "#2a3f5f"
            },
            "marker": {
             "line": {
              "color": "#E5ECF6",
              "width": 0.5
             },
             "pattern": {
              "fillmode": "overlay",
              "size": 10,
              "solidity": 0.2
             }
            },
            "type": "bar"
           }
          ],
          "barpolar": [
           {
            "marker": {
             "line": {
              "color": "#E5ECF6",
              "width": 0.5
             },
             "pattern": {
              "fillmode": "overlay",
              "size": 10,
              "solidity": 0.2
             }
            },
            "type": "barpolar"
           }
          ],
          "carpet": [
           {
            "aaxis": {
             "endlinecolor": "#2a3f5f",
             "gridcolor": "white",
             "linecolor": "white",
             "minorgridcolor": "white",
             "startlinecolor": "#2a3f5f"
            },
            "baxis": {
             "endlinecolor": "#2a3f5f",
             "gridcolor": "white",
             "linecolor": "white",
             "minorgridcolor": "white",
             "startlinecolor": "#2a3f5f"
            },
            "type": "carpet"
           }
          ],
          "choropleth": [
           {
            "colorbar": {
             "outlinewidth": 0,
             "ticks": ""
            },
            "type": "choropleth"
           }
          ],
          "contour": [
           {
            "colorbar": {
             "outlinewidth": 0,
             "ticks": ""
            },
            "colorscale": [
             [
              0,
              "#0d0887"
             ],
             [
              0.1111111111111111,
              "#46039f"
             ],
             [
              0.2222222222222222,
              "#7201a8"
             ],
             [
              0.3333333333333333,
              "#9c179e"
             ],
             [
              0.4444444444444444,
              "#bd3786"
             ],
             [
              0.5555555555555556,
              "#d8576b"
             ],
             [
              0.6666666666666666,
              "#ed7953"
             ],
             [
              0.7777777777777778,
              "#fb9f3a"
             ],
             [
              0.8888888888888888,
              "#fdca26"
             ],
             [
              1,
              "#f0f921"
             ]
            ],
            "type": "contour"
           }
          ],
          "contourcarpet": [
           {
            "colorbar": {
             "outlinewidth": 0,
             "ticks": ""
            },
            "type": "contourcarpet"
           }
          ],
          "heatmap": [
           {
            "colorbar": {
             "outlinewidth": 0,
             "ticks": ""
            },
            "colorscale": [
             [
              0,
              "#0d0887"
             ],
             [
              0.1111111111111111,
              "#46039f"
             ],
             [
              0.2222222222222222,
              "#7201a8"
             ],
             [
              0.3333333333333333,
              "#9c179e"
             ],
             [
              0.4444444444444444,
              "#bd3786"
             ],
             [
              0.5555555555555556,
              "#d8576b"
             ],
             [
              0.6666666666666666,
              "#ed7953"
             ],
             [
              0.7777777777777778,
              "#fb9f3a"
             ],
             [
              0.8888888888888888,
              "#fdca26"
             ],
             [
              1,
              "#f0f921"
             ]
            ],
            "type": "heatmap"
           }
          ],
          "histogram": [
           {
            "marker": {
             "pattern": {
              "fillmode": "overlay",
              "size": 10,
              "solidity": 0.2
             }
            },
            "type": "histogram"
           }
          ],
          "histogram2d": [
           {
            "colorbar": {
             "outlinewidth": 0,
             "ticks": ""
            },
            "colorscale": [
             [
              0,
              "#0d0887"
             ],
             [
              0.1111111111111111,
              "#46039f"
             ],
             [
              0.2222222222222222,
              "#7201a8"
             ],
             [
              0.3333333333333333,
              "#9c179e"
             ],
             [
              0.4444444444444444,
              "#bd3786"
             ],
             [
              0.5555555555555556,
              "#d8576b"
             ],
             [
              0.6666666666666666,
              "#ed7953"
             ],
             [
              0.7777777777777778,
              "#fb9f3a"
             ],
             [
              0.8888888888888888,
              "#fdca26"
             ],
             [
              1,
              "#f0f921"
             ]
            ],
            "type": "histogram2d"
           }
          ],
          "histogram2dcontour": [
           {
            "colorbar": {
             "outlinewidth": 0,
             "ticks": ""
            },
            "colorscale": [
             [
              0,
              "#0d0887"
             ],
             [
              0.1111111111111111,
              "#46039f"
             ],
             [
              0.2222222222222222,
              "#7201a8"
             ],
             [
              0.3333333333333333,
              "#9c179e"
             ],
             [
              0.4444444444444444,
              "#bd3786"
             ],
             [
              0.5555555555555556,
              "#d8576b"
             ],
             [
              0.6666666666666666,
              "#ed7953"
             ],
             [
              0.7777777777777778,
              "#fb9f3a"
             ],
             [
              0.8888888888888888,
              "#fdca26"
             ],
             [
              1,
              "#f0f921"
             ]
            ],
            "type": "histogram2dcontour"
           }
          ],
          "mesh3d": [
           {
            "colorbar": {
             "outlinewidth": 0,
             "ticks": ""
            },
            "type": "mesh3d"
           }
          ],
          "parcoords": [
           {
            "line": {
             "colorbar": {
              "outlinewidth": 0,
              "ticks": ""
             }
            },
            "type": "parcoords"
           }
          ],
          "pie": [
           {
            "automargin": true,
            "type": "pie"
           }
          ],
          "scatter": [
           {
            "fillpattern": {
             "fillmode": "overlay",
             "size": 10,
             "solidity": 0.2
            },
            "type": "scatter"
           }
          ],
          "scatter3d": [
           {
            "line": {
             "colorbar": {
              "outlinewidth": 0,
              "ticks": ""
             }
            },
            "marker": {
             "colorbar": {
              "outlinewidth": 0,
              "ticks": ""
             }
            },
            "type": "scatter3d"
           }
          ],
          "scattercarpet": [
           {
            "marker": {
             "colorbar": {
              "outlinewidth": 0,
              "ticks": ""
             }
            },
            "type": "scattercarpet"
           }
          ],
          "scattergeo": [
           {
            "marker": {
             "colorbar": {
              "outlinewidth": 0,
              "ticks": ""
             }
            },
            "type": "scattergeo"
           }
          ],
          "scattergl": [
           {
            "marker": {
             "colorbar": {
              "outlinewidth": 0,
              "ticks": ""
             }
            },
            "type": "scattergl"
           }
          ],
          "scattermap": [
           {
            "marker": {
             "colorbar": {
              "outlinewidth": 0,
              "ticks": ""
             }
            },
            "type": "scattermap"
           }
          ],
          "scattermapbox": [
           {
            "marker": {
             "colorbar": {
              "outlinewidth": 0,
              "ticks": ""
             }
            },
            "type": "scattermapbox"
           }
          ],
          "scatterpolar": [
           {
            "marker": {
             "colorbar": {
              "outlinewidth": 0,
              "ticks": ""
             }
            },
            "type": "scatterpolar"
           }
          ],
          "scatterpolargl": [
           {
            "marker": {
             "colorbar": {
              "outlinewidth": 0,
              "ticks": ""
             }
            },
            "type": "scatterpolargl"
           }
          ],
          "scatterternary": [
           {
            "marker": {
             "colorbar": {
              "outlinewidth": 0,
              "ticks": ""
             }
            },
            "type": "scatterternary"
           }
          ],
          "surface": [
           {
            "colorbar": {
             "outlinewidth": 0,
             "ticks": ""
            },
            "colorscale": [
             [
              0,
              "#0d0887"
             ],
             [
              0.1111111111111111,
              "#46039f"
             ],
             [
              0.2222222222222222,
              "#7201a8"
             ],
             [
              0.3333333333333333,
              "#9c179e"
             ],
             [
              0.4444444444444444,
              "#bd3786"
             ],
             [
              0.5555555555555556,
              "#d8576b"
             ],
             [
              0.6666666666666666,
              "#ed7953"
             ],
             [
              0.7777777777777778,
              "#fb9f3a"
             ],
             [
              0.8888888888888888,
              "#fdca26"
             ],
             [
              1,
              "#f0f921"
             ]
            ],
            "type": "surface"
           }
          ],
          "table": [
           {
            "cells": {
             "fill": {
              "color": "#EBF0F8"
             },
             "line": {
              "color": "white"
             }
            },
            "header": {
             "fill": {
              "color": "#C8D4E3"
             },
             "line": {
              "color": "white"
             }
            },
            "type": "table"
           }
          ]
         },
         "layout": {
          "annotationdefaults": {
           "arrowcolor": "#2a3f5f",
           "arrowhead": 0,
           "arrowwidth": 1
          },
          "autotypenumbers": "strict",
          "coloraxis": {
           "colorbar": {
            "outlinewidth": 0,
            "ticks": ""
           }
          },
          "colorscale": {
           "diverging": [
            [
             0,
             "#8e0152"
            ],
            [
             0.1,
             "#c51b7d"
            ],
            [
             0.2,
             "#de77ae"
            ],
            [
             0.3,
             "#f1b6da"
            ],
            [
             0.4,
             "#fde0ef"
            ],
            [
             0.5,
             "#f7f7f7"
            ],
            [
             0.6,
             "#e6f5d0"
            ],
            [
             0.7,
             "#b8e186"
            ],
            [
             0.8,
             "#7fbc41"
            ],
            [
             0.9,
             "#4d9221"
            ],
            [
             1,
             "#276419"
            ]
           ],
           "sequential": [
            [
             0,
             "#0d0887"
            ],
            [
             0.1111111111111111,
             "#46039f"
            ],
            [
             0.2222222222222222,
             "#7201a8"
            ],
            [
             0.3333333333333333,
             "#9c179e"
            ],
            [
             0.4444444444444444,
             "#bd3786"
            ],
            [
             0.5555555555555556,
             "#d8576b"
            ],
            [
             0.6666666666666666,
             "#ed7953"
            ],
            [
             0.7777777777777778,
             "#fb9f3a"
            ],
            [
             0.8888888888888888,
             "#fdca26"
            ],
            [
             1,
             "#f0f921"
            ]
           ],
           "sequentialminus": [
            [
             0,
             "#0d0887"
            ],
            [
             0.1111111111111111,
             "#46039f"
            ],
            [
             0.2222222222222222,
             "#7201a8"
            ],
            [
             0.3333333333333333,
             "#9c179e"
            ],
            [
             0.4444444444444444,
             "#bd3786"
            ],
            [
             0.5555555555555556,
             "#d8576b"
            ],
            [
             0.6666666666666666,
             "#ed7953"
            ],
            [
             0.7777777777777778,
             "#fb9f3a"
            ],
            [
             0.8888888888888888,
             "#fdca26"
            ],
            [
             1,
             "#f0f921"
            ]
           ]
          },
          "colorway": [
           "#636efa",
           "#EF553B",
           "#00cc96",
           "#ab63fa",
           "#FFA15A",
           "#19d3f3",
           "#FF6692",
           "#B6E880",
           "#FF97FF",
           "#FECB52"
          ],
          "font": {
           "color": "#2a3f5f"
          },
          "geo": {
           "bgcolor": "white",
           "lakecolor": "white",
           "landcolor": "#E5ECF6",
           "showlakes": true,
           "showland": true,
           "subunitcolor": "white"
          },
          "hoverlabel": {
           "align": "left"
          },
          "hovermode": "closest",
          "mapbox": {
           "style": "light"
          },
          "paper_bgcolor": "white",
          "plot_bgcolor": "#E5ECF6",
          "polar": {
           "angularaxis": {
            "gridcolor": "white",
            "linecolor": "white",
            "ticks": ""
           },
           "bgcolor": "#E5ECF6",
           "radialaxis": {
            "gridcolor": "white",
            "linecolor": "white",
            "ticks": ""
           }
          },
          "scene": {
           "xaxis": {
            "backgroundcolor": "#E5ECF6",
            "gridcolor": "white",
            "gridwidth": 2,
            "linecolor": "white",
            "showbackground": true,
            "ticks": "",
            "zerolinecolor": "white"
           },
           "yaxis": {
            "backgroundcolor": "#E5ECF6",
            "gridcolor": "white",
            "gridwidth": 2,
            "linecolor": "white",
            "showbackground": true,
            "ticks": "",
            "zerolinecolor": "white"
           },
           "zaxis": {
            "backgroundcolor": "#E5ECF6",
            "gridcolor": "white",
            "gridwidth": 2,
            "linecolor": "white",
            "showbackground": true,
            "ticks": "",
            "zerolinecolor": "white"
           }
          },
          "shapedefaults": {
           "line": {
            "color": "#2a3f5f"
           }
          },
          "ternary": {
           "aaxis": {
            "gridcolor": "white",
            "linecolor": "white",
            "ticks": ""
           },
           "baxis": {
            "gridcolor": "white",
            "linecolor": "white",
            "ticks": ""
           },
           "bgcolor": "#E5ECF6",
           "caxis": {
            "gridcolor": "white",
            "linecolor": "white",
            "ticks": ""
           }
          },
          "title": {
           "x": 0.05
          },
          "xaxis": {
           "automargin": true,
           "gridcolor": "white",
           "linecolor": "white",
           "ticks": "",
           "title": {
            "standoff": 15
           },
           "zerolinecolor": "white",
           "zerolinewidth": 2
          },
          "yaxis": {
           "automargin": true,
           "gridcolor": "white",
           "linecolor": "white",
           "ticks": "",
           "title": {
            "standoff": 15
           },
           "zerolinecolor": "white",
           "zerolinewidth": 2
          }
         }
        },
        "title": {
         "text": "Sort events by signatures"
        }
       }
      }
     },
     "metadata": {},
     "output_type": "display_data"
    },
    {
     "data": {
      "application/vnd.plotly.v1+json": {
       "config": {
        "plotlyServerURL": "https://plot.ly"
       },
       "data": [
        {
         "hovertemplate": "timestamp=%{x}<br>signature=%{y}<extra></extra>",
         "legendgroup": "",
         "marker": {
          "color": "#636efa",
          "symbol": "circle"
         },
         "mode": "markers",
         "name": "",
         "orientation": "v",
         "showlegend": false,
         "type": "scatter",
         "x": [
          "2023-08-21T08:00:00",
          "2023-08-21T09:00:00",
          "2023-08-21T10:00:00",
          "2023-08-21T11:00:00",
          "2023-08-21T12:00:00",
          "2023-08-21T13:00:00",
          "2023-08-21T14:00:00",
          "2023-08-21T15:00:00",
          "2023-08-21T16:00:00",
          "2023-08-21T17:00:00",
          "2023-08-21T18:00:00",
          "2023-08-21T19:00:00",
          "2023-08-21T20:00:00",
          "2023-08-21T21:00:00",
          "2023-08-21T22:00:00",
          "2023-08-21T23:00:00",
          "2023-08-22T00:00:00",
          "2023-08-22T01:00:00",
          "2023-08-22T02:00:00",
          "2023-08-22T03:00:00",
          "2023-08-22T04:00:00",
          "2023-08-22T05:00:00",
          "2023-08-22T06:00:00",
          "2023-08-22T07:00:00",
          "2023-08-22T08:00:00",
          "2023-08-22T09:00:00",
          "2023-08-22T10:00:00",
          "2023-08-22T11:00:00",
          "2023-08-22T12:00:00",
          "2023-08-22T13:00:00",
          "2023-08-22T14:00:00",
          "2023-08-22T15:00:00",
          "2023-08-22T16:00:00",
          "2023-08-22T17:00:00",
          "2023-08-22T18:00:00",
          "2023-08-22T19:00:00",
          "2023-08-22T20:00:00",
          "2023-08-22T21:00:00",
          "2023-08-22T22:00:00",
          "2023-08-22T23:00:00",
          "2023-08-23T00:00:00",
          "2023-08-23T01:00:00",
          "2023-08-23T02:00:00",
          "2023-08-23T03:00:00",
          "2023-08-23T04:00:00",
          "2023-08-23T05:00:00",
          "2023-08-23T06:00:00",
          "2023-08-23T07:00:00",
          "2023-08-23T08:00:00",
          "2023-08-23T09:00:00",
          "2023-08-23T10:00:00",
          "2023-08-23T11:00:00",
          "2023-08-23T12:00:00",
          "2023-08-23T13:00:00",
          "2023-08-23T14:00:00",
          "2023-08-23T15:00:00",
          "2023-08-23T16:00:00",
          "2023-08-23T17:00:00",
          "2023-08-23T18:00:00",
          "2023-08-23T19:00:00",
          "2023-08-23T20:00:00",
          "2023-08-23T21:00:00",
          "2023-08-23T22:00:00",
          "2023-08-23T23:00:00",
          "2023-08-24T00:00:00",
          "2023-08-24T01:00:00",
          "2023-08-24T02:00:00",
          "2023-08-24T03:00:00",
          "2023-08-24T04:00:00",
          "2023-08-24T05:00:00",
          "2023-08-24T06:00:00",
          "2023-08-24T07:00:00",
          "2023-08-24T08:00:00",
          "2023-08-24T09:00:00",
          "2023-08-24T10:00:00",
          "2023-08-24T11:00:00",
          "2023-08-24T12:00:00",
          "2023-08-24T13:00:00",
          "2023-08-24T14:00:00",
          "2023-08-24T15:00:00",
          "2023-08-24T16:00:00",
          "2023-08-24T17:00:00",
          "2023-08-24T18:00:00",
          "2023-08-24T19:00:00",
          "2023-08-24T20:00:00",
          "2023-08-24T21:00:00",
          "2023-08-24T22:00:00",
          "2023-08-24T23:00:00",
          "2023-08-25T00:00:00",
          "2023-08-25T01:00:00",
          "2023-08-25T02:00:00",
          "2023-08-25T03:00:00",
          "2023-08-25T04:00:00",
          "2023-08-25T05:00:00",
          "2023-08-25T06:00:00",
          "2023-08-25T07:00:00",
          "2023-08-25T08:00:00",
          "2023-08-25T09:00:00",
          "2023-08-25T10:00:00",
          "2023-08-25T11:00:00"
         ],
         "xaxis": "x",
         "y": [
          "MALWARE-CNC Win.Trojan.Jadtre variant outbound connection",
          "EXPLOIT Remote Windows Win32k elevation of privilege attempt",
          "EXPLOIT Java JRE to Oracle WebLogic RCE",
          "NETBIOS DCERPC NCACN-IP-TCP interfaces BO",
          "MALWARE-CNC User-Agent known malicious connecting IP",
          "INDICATOR-COMPROMISE Suspicious inbound to mySQL port 3306",
          "EXPLOIT Multiple IIS 6.0 attempt",
          "EXPLOIT Oracle 9i TNS Listener BO",
          "NETBIOS SMB-DS srvsvc NetrPathCanonicalize BO",
          "MALWARE-CNC Win.Trojan.Jadtre variant outbound connection",
          "EXPLOIT Remote Windows Win32k elevation of privilege attempt",
          "EXPLOIT Java JRE to Oracle WebLogic RCE",
          "NETBIOS DCERPC NCACN-IP-TCP interfaces BO",
          "MALWARE-CNC User-Agent known malicious connecting IP",
          "INDICATOR-COMPROMISE Suspicious inbound to mySQL port 3306",
          "EXPLOIT Multiple IIS 6.0 attempt",
          "EXPLOIT Oracle 9i TNS Listener BO",
          "NETBIOS SMB-DS srvsvc NetrPathCanonicalize BO",
          "MALWARE-CNC Win.Trojan.Jadtre variant outbound connection",
          "EXPLOIT Remote Windows Win32k elevation of privilege attempt",
          "EXPLOIT Java JRE to Oracle WebLogic RCE",
          "NETBIOS DCERPC NCACN-IP-TCP interfaces BO",
          "MALWARE-CNC User-Agent known malicious connecting IP",
          "INDICATOR-COMPROMISE Suspicious inbound to mySQL port 3306",
          "EXPLOIT Multiple IIS 6.0 attempt",
          "EXPLOIT Oracle 9i TNS Listener BO",
          "NETBIOS SMB-DS srvsvc NetrPathCanonicalize BO",
          "MALWARE-CNC Win.Trojan.Jadtre variant outbound connection",
          "EXPLOIT Remote Windows Win32k elevation of privilege attempt",
          "EXPLOIT Java JRE to Oracle WebLogic RCE",
          "NETBIOS DCERPC NCACN-IP-TCP interfaces BO",
          "MALWARE-CNC User-Agent known malicious connecting IP",
          "INDICATOR-COMPROMISE Suspicious inbound to mySQL port 3306",
          "EXPLOIT Multiple IIS 6.0 attempt",
          "EXPLOIT Oracle 9i TNS Listener BO",
          "NETBIOS SMB-DS srvsvc NetrPathCanonicalize BO",
          "MALWARE-CNC Win.Trojan.Jadtre variant outbound connection",
          "EXPLOIT Remote Windows Win32k elevation of privilege attempt",
          "EXPLOIT Java JRE to Oracle WebLogic RCE",
          "NETBIOS DCERPC NCACN-IP-TCP interfaces BO",
          "MALWARE-CNC User-Agent known malicious connecting IP",
          "INDICATOR-COMPROMISE Suspicious inbound to mySQL port 3306",
          "EXPLOIT Multiple IIS 6.0 attempt",
          "EXPLOIT Oracle 9i TNS Listener BO",
          "NETBIOS SMB-DS srvsvc NetrPathCanonicalize BO",
          "MALWARE-CNC Win.Trojan.Jadtre variant outbound connection",
          "EXPLOIT Remote Windows Win32k elevation of privilege attempt",
          "EXPLOIT Java JRE to Oracle WebLogic RCE",
          "NETBIOS DCERPC NCACN-IP-TCP interfaces BO",
          "MALWARE-CNC User-Agent known malicious connecting IP",
          "INDICATOR-COMPROMISE Suspicious inbound to mySQL port 3306",
          "EXPLOIT Multiple IIS 6.0 attempt",
          "EXPLOIT Oracle 9i TNS Listener BO",
          "NETBIOS SMB-DS srvsvc NetrPathCanonicalize BO",
          "MALWARE-CNC Win.Trojan.Jadtre variant outbound connection",
          "EXPLOIT Remote Windows Win32k elevation of privilege attempt",
          "EXPLOIT Java JRE to Oracle WebLogic RCE",
          "NETBIOS DCERPC NCACN-IP-TCP interfaces BO",
          "MALWARE-CNC User-Agent known malicious connecting IP",
          "INDICATOR-COMPROMISE Suspicious inbound to mySQL port 3306",
          "EXPLOIT Multiple IIS 6.0 attempt",
          "EXPLOIT Oracle 9i TNS Listener BO",
          "NETBIOS SMB-DS srvsvc NetrPathCanonicalize BO",
          "MALWARE-CNC Win.Trojan.Jadtre variant outbound connection",
          "EXPLOIT Remote Windows Win32k elevation of privilege attempt",
          "EXPLOIT Java JRE to Oracle WebLogic RCE",
          "NETBIOS DCERPC NCACN-IP-TCP interfaces BO",
          "MALWARE-CNC User-Agent known malicious connecting IP",
          "INDICATOR-COMPROMISE Suspicious inbound to mySQL port 3306",
          "EXPLOIT Multiple IIS 6.0 attempt",
          "EXPLOIT Oracle 9i TNS Listener BO",
          "NETBIOS SMB-DS srvsvc NetrPathCanonicalize BO",
          "MALWARE-CNC Win.Trojan.Jadtre variant outbound connection",
          "EXPLOIT Remote Windows Win32k elevation of privilege attempt",
          "EXPLOIT Java JRE to Oracle WebLogic RCE",
          "NETBIOS DCERPC NCACN-IP-TCP interfaces BO",
          "MALWARE-CNC User-Agent known malicious connecting IP",
          "INDICATOR-COMPROMISE Suspicious inbound to mySQL port 3306",
          "EXPLOIT Multiple IIS 6.0 attempt",
          "EXPLOIT Oracle 9i TNS Listener BO",
          "NETBIOS SMB-DS srvsvc NetrPathCanonicalize BO",
          "MALWARE-CNC Win.Trojan.Jadtre variant outbound connection",
          "EXPLOIT Remote Windows Win32k elevation of privilege attempt",
          "EXPLOIT Java JRE to Oracle WebLogic RCE",
          "NETBIOS DCERPC NCACN-IP-TCP interfaces BO",
          "MALWARE-CNC User-Agent known malicious connecting IP",
          "INDICATOR-COMPROMISE Suspicious inbound to mySQL port 3306",
          "EXPLOIT Multiple IIS 6.0 attempt",
          "EXPLOIT Oracle 9i TNS Listener BO",
          "NETBIOS SMB-DS srvsvc NetrPathCanonicalize BO",
          "MALWARE-CNC Win.Trojan.Jadtre variant outbound connection",
          "EXPLOIT Remote Windows Win32k elevation of privilege attempt",
          "EXPLOIT Java JRE to Oracle WebLogic RCE",
          "NETBIOS DCERPC NCACN-IP-TCP interfaces BO",
          "MALWARE-CNC User-Agent known malicious connecting IP",
          "INDICATOR-COMPROMISE Suspicious inbound to mySQL port 3306",
          "EXPLOIT Multiple IIS 6.0 attempt",
          "EXPLOIT Oracle 9i TNS Listener BO",
          "NETBIOS SMB-DS srvsvc NetrPathCanonicalize BO",
          "MALWARE-CNC Win.Trojan.Jadtre variant outbound connection"
         ],
         "yaxis": "y"
        }
       ],
       "layout": {
        "legend": {
         "tracegroupgap": 0
        },
        "template": {
         "data": {
          "bar": [
           {
            "error_x": {
             "color": "#2a3f5f"
            },
            "error_y": {
             "color": "#2a3f5f"
            },
            "marker": {
             "line": {
              "color": "#E5ECF6",
              "width": 0.5
             },
             "pattern": {
              "fillmode": "overlay",
              "size": 10,
              "solidity": 0.2
             }
            },
            "type": "bar"
           }
          ],
          "barpolar": [
           {
            "marker": {
             "line": {
              "color": "#E5ECF6",
              "width": 0.5
             },
             "pattern": {
              "fillmode": "overlay",
              "size": 10,
              "solidity": 0.2
             }
            },
            "type": "barpolar"
           }
          ],
          "carpet": [
           {
            "aaxis": {
             "endlinecolor": "#2a3f5f",
             "gridcolor": "white",
             "linecolor": "white",
             "minorgridcolor": "white",
             "startlinecolor": "#2a3f5f"
            },
            "baxis": {
             "endlinecolor": "#2a3f5f",
             "gridcolor": "white",
             "linecolor": "white",
             "minorgridcolor": "white",
             "startlinecolor": "#2a3f5f"
            },
            "type": "carpet"
           }
          ],
          "choropleth": [
           {
            "colorbar": {
             "outlinewidth": 0,
             "ticks": ""
            },
            "type": "choropleth"
           }
          ],
          "contour": [
           {
            "colorbar": {
             "outlinewidth": 0,
             "ticks": ""
            },
            "colorscale": [
             [
              0,
              "#0d0887"
             ],
             [
              0.1111111111111111,
              "#46039f"
             ],
             [
              0.2222222222222222,
              "#7201a8"
             ],
             [
              0.3333333333333333,
              "#9c179e"
             ],
             [
              0.4444444444444444,
              "#bd3786"
             ],
             [
              0.5555555555555556,
              "#d8576b"
             ],
             [
              0.6666666666666666,
              "#ed7953"
             ],
             [
              0.7777777777777778,
              "#fb9f3a"
             ],
             [
              0.8888888888888888,
              "#fdca26"
             ],
             [
              1,
              "#f0f921"
             ]
            ],
            "type": "contour"
           }
          ],
          "contourcarpet": [
           {
            "colorbar": {
             "outlinewidth": 0,
             "ticks": ""
            },
            "type": "contourcarpet"
           }
          ],
          "heatmap": [
           {
            "colorbar": {
             "outlinewidth": 0,
             "ticks": ""
            },
            "colorscale": [
             [
              0,
              "#0d0887"
             ],
             [
              0.1111111111111111,
              "#46039f"
             ],
             [
              0.2222222222222222,
              "#7201a8"
             ],
             [
              0.3333333333333333,
              "#9c179e"
             ],
             [
              0.4444444444444444,
              "#bd3786"
             ],
             [
              0.5555555555555556,
              "#d8576b"
             ],
             [
              0.6666666666666666,
              "#ed7953"
             ],
             [
              0.7777777777777778,
              "#fb9f3a"
             ],
             [
              0.8888888888888888,
              "#fdca26"
             ],
             [
              1,
              "#f0f921"
             ]
            ],
            "type": "heatmap"
           }
          ],
          "histogram": [
           {
            "marker": {
             "pattern": {
              "fillmode": "overlay",
              "size": 10,
              "solidity": 0.2
             }
            },
            "type": "histogram"
           }
          ],
          "histogram2d": [
           {
            "colorbar": {
             "outlinewidth": 0,
             "ticks": ""
            },
            "colorscale": [
             [
              0,
              "#0d0887"
             ],
             [
              0.1111111111111111,
              "#46039f"
             ],
             [
              0.2222222222222222,
              "#7201a8"
             ],
             [
              0.3333333333333333,
              "#9c179e"
             ],
             [
              0.4444444444444444,
              "#bd3786"
             ],
             [
              0.5555555555555556,
              "#d8576b"
             ],
             [
              0.6666666666666666,
              "#ed7953"
             ],
             [
              0.7777777777777778,
              "#fb9f3a"
             ],
             [
              0.8888888888888888,
              "#fdca26"
             ],
             [
              1,
              "#f0f921"
             ]
            ],
            "type": "histogram2d"
           }
          ],
          "histogram2dcontour": [
           {
            "colorbar": {
             "outlinewidth": 0,
             "ticks": ""
            },
            "colorscale": [
             [
              0,
              "#0d0887"
             ],
             [
              0.1111111111111111,
              "#46039f"
             ],
             [
              0.2222222222222222,
              "#7201a8"
             ],
             [
              0.3333333333333333,
              "#9c179e"
             ],
             [
              0.4444444444444444,
              "#bd3786"
             ],
             [
              0.5555555555555556,
              "#d8576b"
             ],
             [
              0.6666666666666666,
              "#ed7953"
             ],
             [
              0.7777777777777778,
              "#fb9f3a"
             ],
             [
              0.8888888888888888,
              "#fdca26"
             ],
             [
              1,
              "#f0f921"
             ]
            ],
            "type": "histogram2dcontour"
           }
          ],
          "mesh3d": [
           {
            "colorbar": {
             "outlinewidth": 0,
             "ticks": ""
            },
            "type": "mesh3d"
           }
          ],
          "parcoords": [
           {
            "line": {
             "colorbar": {
              "outlinewidth": 0,
              "ticks": ""
             }
            },
            "type": "parcoords"
           }
          ],
          "pie": [
           {
            "automargin": true,
            "type": "pie"
           }
          ],
          "scatter": [
           {
            "fillpattern": {
             "fillmode": "overlay",
             "size": 10,
             "solidity": 0.2
            },
            "type": "scatter"
           }
          ],
          "scatter3d": [
           {
            "line": {
             "colorbar": {
              "outlinewidth": 0,
              "ticks": ""
             }
            },
            "marker": {
             "colorbar": {
              "outlinewidth": 0,
              "ticks": ""
             }
            },
            "type": "scatter3d"
           }
          ],
          "scattercarpet": [
           {
            "marker": {
             "colorbar": {
              "outlinewidth": 0,
              "ticks": ""
             }
            },
            "type": "scattercarpet"
           }
          ],
          "scattergeo": [
           {
            "marker": {
             "colorbar": {
              "outlinewidth": 0,
              "ticks": ""
             }
            },
            "type": "scattergeo"
           }
          ],
          "scattergl": [
           {
            "marker": {
             "colorbar": {
              "outlinewidth": 0,
              "ticks": ""
             }
            },
            "type": "scattergl"
           }
          ],
          "scattermap": [
           {
            "marker": {
             "colorbar": {
              "outlinewidth": 0,
              "ticks": ""
             }
            },
            "type": "scattermap"
           }
          ],
          "scattermapbox": [
           {
            "marker": {
             "colorbar": {
              "outlinewidth": 0,
              "ticks": ""
             }
            },
            "type": "scattermapbox"
           }
          ],
          "scatterpolar": [
           {
            "marker": {
             "colorbar": {
              "outlinewidth": 0,
              "ticks": ""
             }
            },
            "type": "scatterpolar"
           }
          ],
          "scatterpolargl": [
           {
            "marker": {
             "colorbar": {
              "outlinewidth": 0,
              "ticks": ""
             }
            },
            "type": "scatterpolargl"
           }
          ],
          "scatterternary": [
           {
            "marker": {
             "colorbar": {
              "outlinewidth": 0,
              "ticks": ""
             }
            },
            "type": "scatterternary"
           }
          ],
          "surface": [
           {
            "colorbar": {
             "outlinewidth": 0,
             "ticks": ""
            },
            "colorscale": [
             [
              0,
              "#0d0887"
             ],
             [
              0.1111111111111111,
              "#46039f"
             ],
             [
              0.2222222222222222,
              "#7201a8"
             ],
             [
              0.3333333333333333,
              "#9c179e"
             ],
             [
              0.4444444444444444,
              "#bd3786"
             ],
             [
              0.5555555555555556,
              "#d8576b"
             ],
             [
              0.6666666666666666,
              "#ed7953"
             ],
             [
              0.7777777777777778,
              "#fb9f3a"
             ],
             [
              0.8888888888888888,
              "#fdca26"
             ],
             [
              1,
              "#f0f921"
             ]
            ],
            "type": "surface"
           }
          ],
          "table": [
           {
            "cells": {
             "fill": {
              "color": "#EBF0F8"
             },
             "line": {
              "color": "white"
             }
            },
            "header": {
             "fill": {
              "color": "#C8D4E3"
             },
             "line": {
              "color": "white"
             }
            },
            "type": "table"
           }
          ]
         },
         "layout": {
          "annotationdefaults": {
           "arrowcolor": "#2a3f5f",
           "arrowhead": 0,
           "arrowwidth": 1
          },
          "autotypenumbers": "strict",
          "coloraxis": {
           "colorbar": {
            "outlinewidth": 0,
            "ticks": ""
           }
          },
          "colorscale": {
           "diverging": [
            [
             0,
             "#8e0152"
            ],
            [
             0.1,
             "#c51b7d"
            ],
            [
             0.2,
             "#de77ae"
            ],
            [
             0.3,
             "#f1b6da"
            ],
            [
             0.4,
             "#fde0ef"
            ],
            [
             0.5,
             "#f7f7f7"
            ],
            [
             0.6,
             "#e6f5d0"
            ],
            [
             0.7,
             "#b8e186"
            ],
            [
             0.8,
             "#7fbc41"
            ],
            [
             0.9,
             "#4d9221"
            ],
            [
             1,
             "#276419"
            ]
           ],
           "sequential": [
            [
             0,
             "#0d0887"
            ],
            [
             0.1111111111111111,
             "#46039f"
            ],
            [
             0.2222222222222222,
             "#7201a8"
            ],
            [
             0.3333333333333333,
             "#9c179e"
            ],
            [
             0.4444444444444444,
             "#bd3786"
            ],
            [
             0.5555555555555556,
             "#d8576b"
            ],
            [
             0.6666666666666666,
             "#ed7953"
            ],
            [
             0.7777777777777778,
             "#fb9f3a"
            ],
            [
             0.8888888888888888,
             "#fdca26"
            ],
            [
             1,
             "#f0f921"
            ]
           ],
           "sequentialminus": [
            [
             0,
             "#0d0887"
            ],
            [
             0.1111111111111111,
             "#46039f"
            ],
            [
             0.2222222222222222,
             "#7201a8"
            ],
            [
             0.3333333333333333,
             "#9c179e"
            ],
            [
             0.4444444444444444,
             "#bd3786"
            ],
            [
             0.5555555555555556,
             "#d8576b"
            ],
            [
             0.6666666666666666,
             "#ed7953"
            ],
            [
             0.7777777777777778,
             "#fb9f3a"
            ],
            [
             0.8888888888888888,
             "#fdca26"
            ],
            [
             1,
             "#f0f921"
            ]
           ]
          },
          "colorway": [
           "#636efa",
           "#EF553B",
           "#00cc96",
           "#ab63fa",
           "#FFA15A",
           "#19d3f3",
           "#FF6692",
           "#B6E880",
           "#FF97FF",
           "#FECB52"
          ],
          "font": {
           "color": "#2a3f5f"
          },
          "geo": {
           "bgcolor": "white",
           "lakecolor": "white",
           "landcolor": "#E5ECF6",
           "showlakes": true,
           "showland": true,
           "subunitcolor": "white"
          },
          "hoverlabel": {
           "align": "left"
          },
          "hovermode": "closest",
          "mapbox": {
           "style": "light"
          },
          "paper_bgcolor": "white",
          "plot_bgcolor": "#E5ECF6",
          "polar": {
           "angularaxis": {
            "gridcolor": "white",
            "linecolor": "white",
            "ticks": ""
           },
           "bgcolor": "#E5ECF6",
           "radialaxis": {
            "gridcolor": "white",
            "linecolor": "white",
            "ticks": ""
           }
          },
          "scene": {
           "xaxis": {
            "backgroundcolor": "#E5ECF6",
            "gridcolor": "white",
            "gridwidth": 2,
            "linecolor": "white",
            "showbackground": true,
            "ticks": "",
            "zerolinecolor": "white"
           },
           "yaxis": {
            "backgroundcolor": "#E5ECF6",
            "gridcolor": "white",
            "gridwidth": 2,
            "linecolor": "white",
            "showbackground": true,
            "ticks": "",
            "zerolinecolor": "white"
           },
           "zaxis": {
            "backgroundcolor": "#E5ECF6",
            "gridcolor": "white",
            "gridwidth": 2,
            "linecolor": "white",
            "showbackground": true,
            "ticks": "",
            "zerolinecolor": "white"
           }
          },
          "shapedefaults": {
           "line": {
            "color": "#2a3f5f"
           }
          },
          "ternary": {
           "aaxis": {
            "gridcolor": "white",
            "linecolor": "white",
            "ticks": ""
           },
           "baxis": {
            "gridcolor": "white",
            "linecolor": "white",
            "ticks": ""
           },
           "bgcolor": "#E5ECF6",
           "caxis": {
            "gridcolor": "white",
            "linecolor": "white",
            "ticks": ""
           }
          },
          "title": {
           "x": 0.05
          },
          "xaxis": {
           "automargin": true,
           "gridcolor": "white",
           "linecolor": "white",
           "ticks": "",
           "title": {
            "standoff": 15
           },
           "zerolinecolor": "white",
           "zerolinewidth": 2
          },
          "yaxis": {
           "automargin": true,
           "gridcolor": "white",
           "linecolor": "white",
           "ticks": "",
           "title": {
            "standoff": 15
           },
           "zerolinecolor": "white",
           "zerolinewidth": 2
          }
         }
        },
        "title": {
         "text": "Sort events by timestamps"
        },
        "xaxis": {
         "anchor": "y",
         "domain": [
          0,
          1
         ],
         "title": {
          "text": ""
         }
        },
        "yaxis": {
         "anchor": "x",
         "domain": [
          0,
          1
         ],
         "title": {
          "text": ""
         }
        }
       }
      }
     },
     "metadata": {},
     "output_type": "display_data"
    }
   ],
   "source": [
    "import json\n",
    "import pandas as pd\n",
    "import plotly.express as px\n",
    "\n",
    "# Set pandas options\n",
    "pd.set_option('display.max_rows', None)\n",
    "pd.set_option('display.max_colwidth', None)\n",
    "\n",
    "with open('events.json', 'r') as output_file:\n",
    "\n",
    "    # Download data from file and transform it to DataFrame\n",
    "    data = json.load(output_file)\n",
    "    df = pd.DataFrame(data['events'])\n",
    "\n",
    "    # Graph of events by signatures\n",
    "    fig = px.pie(df, names='signature', title='Sort events by signatures')\n",
    "    fig.show()\n",
    "    \n",
    "    # Graph of events by timestamps\n",
    "    fig = px.scatter(df, x='timestamp', y='signature', title='Sort events by timestamps')\n",
    "    fig.update_layout(\n",
    "        xaxis_title=\"\",\n",
    "        yaxis_title=\"\"\n",
    "    )\n",
    "    fig.show()"
   ]
  }
 ],
 "metadata": {
  "kernelspec": {
   "display_name": "venv",
   "language": "python",
   "name": "python3"
  },
  "language_info": {
   "codemirror_mode": {
    "name": "ipython",
    "version": 3
   },
   "file_extension": ".py",
   "mimetype": "text/x-python",
   "name": "python",
   "nbconvert_exporter": "python",
   "pygments_lexer": "ipython3",
   "version": "3.13.2"
  }
 },
 "nbformat": 4,
 "nbformat_minor": 2
}
