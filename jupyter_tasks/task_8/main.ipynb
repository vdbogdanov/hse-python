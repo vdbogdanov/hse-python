{
 "cells": [
  {
   "cell_type": "code",
   "execution_count": null,
   "metadata": {},
   "outputs": [],
   "source": [
    "import subprocess\n",
    "\n",
    "subprocess.run(\n",
    "    [\"python\", \"traffic_script.py\", \"142.251.39.116\", \"GET / HTTP/1.1\\r\\n\", \"100\"]\n",
    ")"
   ]
  },
  {
   "cell_type": "code",
   "execution_count": null,
   "metadata": {},
   "outputs": [],
   "source": [
    "from scapy.all import IP, TCP, Raw, sniff\n",
    "\n",
    "\n",
    "def packet_callback(packet):\n",
    "    \"\"\"\n",
    "    Create and print dictionary with packet information\n",
    "    \"\"\"\n",
    "\n",
    "    packet_info = {}\n",
    "\n",
    "    if packet.haslayer(IP):\n",
    "        packet_info[\"IP\"] = {\n",
    "            \"Source Address\": packet[IP].src,\n",
    "            \"Destination Address\": packet[IP].dst,\n",
    "        }\n",
    "\n",
    "    if packet.haslayer(TCP):\n",
    "        packet_info[\"TCP\"] = {\n",
    "            \"Source Port\": packet[TCP].sport,\n",
    "            \"Destination Port\": packet[TCP].dport,\n",
    "        }\n",
    "\n",
    "    if packet.haslayer(Raw):\n",
    "        packet_info[\"Raw\"] = {\n",
    "            \"Payload\": packet[Raw].load.decode(\"utf-8\", errors=\"ignore\")\n",
    "        }\n",
    "\n",
    "        print(\"Packet Info:\")\n",
    "        for layer, info in packet_info.items():\n",
    "            print(f\"  {layer}:\")\n",
    "            for key, value in info.items():\n",
    "                print(f\"    {key}: {value}\")\n",
    "        print(\"-\" * 40)\n",
    "\n",
    "\n",
    "sniff(prn=packet_callback, filter=\"tcp port http\", iface=\"en0\", count=1000)"
   ]
  }
 ],
 "metadata": {
  "kernelspec": {
   "display_name": "venv",
   "language": "python",
   "name": "python3"
  },
  "language_info": {
   "codemirror_mode": {
    "name": "ipython",
    "version": 3
   },
   "file_extension": ".py",
   "mimetype": "text/x-python",
   "name": "python",
   "nbconvert_exporter": "python",
   "pygments_lexer": "ipython3",
   "version": "3.13.2"
  }
 },
 "nbformat": 4,
 "nbformat_minor": 2
}
