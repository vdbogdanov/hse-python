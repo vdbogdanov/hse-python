{
 "cells": [
  {
   "cell_type": "markdown",
   "metadata": {},
   "source": [
    "### Задание 1\n",
    "\n",
    "Нужно реализовать класс Account, который отражает абстракцию базового поведения банковского аккаунта:\n",
    "* создать банковский аккаунт с параметрами: имя, стартовый баланс с которым зарегистрирован аккаунт, история операций;\n",
    "* реализовать два метода, которые позволяют положить деньги на счёт или снять деньги со счёта;\n",
    "* продумать, как можно хранить историю поступления или снятия денег, чтобы с ней было удобно работать."
   ]
  },
  {
   "cell_type": "code",
   "execution_count": 4,
   "metadata": {},
   "outputs": [
    {
     "name": "stdout",
     "output_type": "stream",
     "text": [
      "Account name: bob\n",
      "Current balance: 3345.6499999999996\n",
      "Operations history: [454, 540.65, -7649]\n",
      "Received money: 994.65\n",
      "Spent money: -7649\n"
     ]
    }
   ],
   "source": [
    "class Account:\n",
    "    def __init__(self, name: str, balance: float):\n",
    "        self._name = name\n",
    "        self._balance = balance\n",
    "        self._history: list = []\n",
    "    \n",
    "    @property\n",
    "    def name(self):\n",
    "        \"\"\"\n",
    "        Get information about the account name\n",
    "        \"\"\"\n",
    "        return self._name\n",
    "\n",
    "    @property\n",
    "    def balance(self):\n",
    "        \"\"\"\n",
    "        Get information about the current balance\n",
    "        \"\"\"\n",
    "        return self._balance\n",
    "\n",
    "    def _validate_value(self, value: float):\n",
    "        if value == 0:\n",
    "            raise Exception(\"Invalid value. Cannot be zero.\")\n",
    "        return value\n",
    "\n",
    "    def balance_up(self, value: float):\n",
    "        \"\"\"\n",
    "        Deposit money into an account\n",
    "        \"\"\"\n",
    "        value = self._validate_value(value)\n",
    "        self._balance += value\n",
    "        self._history.append(value)\n",
    "\n",
    "    def balance_down(self, value: float):\n",
    "        \"\"\"\n",
    "        Withdraw money from the account\n",
    "        \"\"\"\n",
    "        value = self._validate_value(value)\n",
    "        self._balance -= value\n",
    "        self._history.append(-value)\n",
    "\n",
    "    @property\n",
    "    def history(self):\n",
    "        \"\"\"\n",
    "        Get account history of all operations\n",
    "        \"\"\"\n",
    "        return self._history\n",
    "\n",
    "    def history_received(self):\n",
    "        \"\"\"\n",
    "        Get total count of received money\n",
    "        \"\"\"\n",
    "        return sum(value for value in self._history if value > 0)\n",
    "\n",
    "    def history_spent(self):\n",
    "        \"\"\"\n",
    "        Get total count of spent money\n",
    "        \"\"\"\n",
    "        return sum(value for value in self._history if value < 0)\n",
    "\n",
    "\n",
    "bob_account = Account(name='bob', balance=10000)\n",
    "\n",
    "bob_account.balance_up(454)\n",
    "bob_account.balance_up(540.65)\n",
    "bob_account.balance_down(7649)\n",
    "\n",
    "print(f\"Account name: {bob_account.name}\")\n",
    "print(f\"Current balance: {bob_account.balance}\")\n",
    "print(f\"Operations history: {bob_account.history}\")\n",
    "print(f\"Received money: {bob_account.history_received()}\")\n",
    "print(f\"Spent money: {bob_account.history_spent()}\")"
   ]
  }
 ],
 "metadata": {
  "kernelspec": {
   "display_name": "venv",
   "language": "python",
   "name": "python3"
  },
  "language_info": {
   "codemirror_mode": {
    "name": "ipython",
    "version": 3
   },
   "file_extension": ".py",
   "mimetype": "text/x-python",
   "name": "python",
   "nbconvert_exporter": "python",
   "pygments_lexer": "ipython3",
   "version": "3.13.1"
  }
 },
 "nbformat": 4,
 "nbformat_minor": 2
}
