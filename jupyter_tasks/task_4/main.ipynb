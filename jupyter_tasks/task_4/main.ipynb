{
 "cells": [
  {
   "cell_type": "markdown",
   "metadata": {},
   "source": [
    "### Задание 1\n",
    "\n",
    "Переведите содержимое файла purchase_log.txt в словарь purchases вида:\n",
    "{'1840e0b9d4': 'Продукты', ...}"
   ]
  },
  {
   "cell_type": "code",
   "execution_count": 154,
   "metadata": {},
   "outputs": [
    {
     "name": "stdout",
     "output_type": "stream",
     "text": [
      "1840e0b9d4 Продукты\n",
      "4e4f90fcfb Электроника\n"
     ]
    }
   ],
   "source": [
    "import json\n",
    "\n",
    "def json_to_dict(filename):\n",
    "\n",
    "    with open(filename, \"r\") as input_file:\n",
    "\n",
    "        first_line = input_file.readline()\n",
    "\n",
    "        output_dict = dict()\n",
    "        output_dict_key, output_dict_value = list(json.loads(first_line).values())\n",
    "\n",
    "        for line in input_file:\n",
    "            parsed_line: dict = json.loads(line)\n",
    "            output_dict[parsed_line[output_dict_key]] = parsed_line[output_dict_value]\n",
    "\n",
    "        return output_dict\n",
    "\n",
    "purchases: dict = json_to_dict('purchase_log.txt')\n",
    "\n",
    "for key in list(purchases.keys())[:2]:\n",
    "    print(key, purchases[key])"
   ]
  },
  {
   "cell_type": "markdown",
   "metadata": {},
   "source": [
    "### Задание 2\n",
    "\n",
    "Для каждого user_id в фaйле visit_log.csv определите третий столбец с\n",
    "категорией покупки. Если покупка была, сам файл visit_log.csv изменять не\n",
    "надо.\n",
    "\n",
    "Запишите в файл funnel.csv визиты из файла visit_log.csv, в которых были\n",
    "покупки с указанием категории.\n",
    "\n",
    "Учтите условия для данных:\n",
    "* содержимое purchase_log.txt помещается в оперативную память компьютера;\n",
    "* содержимое visit_log.csv — нет, используйте только построчную обработку этого файла."
   ]
  },
  {
   "cell_type": "code",
   "execution_count": 153,
   "metadata": {},
   "outputs": [],
   "source": [
    "import csv\n",
    "\n",
    "def csv_to_dict(filename):\n",
    "\n",
    "    with open(filename, 'r') as input_file:\n",
    "        \n",
    "        parsed_file = csv.DictReader(input_file, delimiter=',')\n",
    "\n",
    "        first_line: list = parsed_file.fieldnames\n",
    "\n",
    "        output_dict = dict()\n",
    "        output_dict_key, output_dict_value = first_line\n",
    "        \n",
    "        for line in parsed_file:\n",
    "            output_dict[line[output_dict_key]] = line[output_dict_value]\n",
    "\n",
    "        return output_dict\n",
    "\n",
    "visits: dict = csv_to_dict('visit_log.csv')\n",
    "\n",
    "with open('funnel.csv', 'w') as output_file:\n",
    "\n",
    "    fieldnames: list = ['user_id', 'source', 'category']\n",
    "    csv_writer = csv.DictWriter(output_file, delimiter=',', fieldnames=fieldnames)\n",
    "    csv_writer.writeheader()\n",
    "    for key in purchases.keys():\n",
    "        if key in visits.keys():\n",
    "            csv_writer.writerow({'user_id': key, 'source': visits[key], 'category': purchases[key]})"
   ]
  }
 ],
 "metadata": {
  "kernelspec": {
   "display_name": "venv",
   "language": "python",
   "name": "python3"
  },
  "language_info": {
   "codemirror_mode": {
    "name": "ipython",
    "version": 3
   },
   "file_extension": ".py",
   "mimetype": "text/x-python",
   "name": "python",
   "nbconvert_exporter": "python",
   "pygments_lexer": "ipython3",
   "version": "3.13.1"
  }
 },
 "nbformat": 4,
 "nbformat_minor": 2
}
