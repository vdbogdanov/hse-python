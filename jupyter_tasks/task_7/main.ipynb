{
 "cells": [
  {
   "cell_type": "markdown",
   "metadata": {},
   "source": [
    "### Задание 1\n",
    "\n",
    "Напишите скрипт, который:\n",
    "* отправляет GET-запрос к /posts;\n",
    "* извлекает и выводит заголовки и тела первых 5 постов."
   ]
  },
  {
   "cell_type": "code",
   "execution_count": 58,
   "metadata": {},
   "outputs": [
    {
     "name": "stdout",
     "output_type": "stream",
     "text": [
      "Пост 1\n",
      "Заголовок:\n",
      "sunt aut facere repellat provident occaecati excepturi optio reprehenderit\n",
      "Тело:\n",
      "quia et suscipit\n",
      "suscipit recusandae consequuntur expedita et cum\n",
      "reprehenderit molestiae ut ut quas totam\n",
      "nostrum rerum est autem sunt rem eveniet architecto\n",
      "\n",
      "Пост 2\n",
      "Заголовок:\n",
      "qui est esse\n",
      "Тело:\n",
      "est rerum tempore vitae\n",
      "sequi sint nihil reprehenderit dolor beatae ea dolores neque\n",
      "fugiat blanditiis voluptate porro vel nihil molestiae ut reiciendis\n",
      "qui aperiam non debitis possimus qui neque nisi nulla\n",
      "\n",
      "Пост 3\n",
      "Заголовок:\n",
      "ea molestias quasi exercitationem repellat qui ipsa sit aut\n",
      "Тело:\n",
      "et iusto sed quo iure\n",
      "voluptatem occaecati omnis eligendi aut ad\n",
      "voluptatem doloribus vel accusantium quis pariatur\n",
      "molestiae porro eius odio et labore et velit aut\n",
      "\n",
      "Пост 4\n",
      "Заголовок:\n",
      "eum et est occaecati\n",
      "Тело:\n",
      "ullam et saepe reiciendis voluptatem adipisci\n",
      "sit amet autem assumenda provident rerum culpa\n",
      "quis hic commodi nesciunt rem tenetur doloremque ipsam iure\n",
      "quis sunt voluptatem rerum illo velit\n",
      "\n",
      "Пост 5\n",
      "Заголовок:\n",
      "nesciunt quas odio\n",
      "Тело:\n",
      "repudiandae veniam quaerat sunt sed\n",
      "alias aut fugiat sit autem sed est\n",
      "voluptatem omnis possimus esse voluptatibus quis\n",
      "est aut tenetur dolor neque\n",
      "\n"
     ]
    }
   ],
   "source": [
    "import requests\n",
    "\n",
    "base_url = \"https://jsonplaceholder.typicode.com\"\n",
    "\n",
    "response = requests.get(f\"{base_url}/posts\").json()\n",
    "\n",
    "for id in range(5):\n",
    "    print(f\"Пост {id+1}\\nЗаголовок:\\n{response[id]['title']}\\nТело:\\n{response[id]['body']}\\n\")\n",
    "\n"
   ]
  },
  {
   "cell_type": "markdown",
   "metadata": {},
   "source": [
    "### Задание 2\n",
    "\n",
    "Напишите программу, которая:\n",
    "* принимает название города от пользователя;\n",
    "* отправляет GET-запрос к API и выводит текущую температуру и описание погоды."
   ]
  },
  {
   "cell_type": "code",
   "execution_count": 67,
   "metadata": {},
   "outputs": [
    {
     "name": "stdout",
     "output_type": "stream",
     "text": [
      "Для получения информации о погоде введите название города: \n",
      "На данный момент температура в городе Москва -1.1\n"
     ]
    }
   ],
   "source": [
    "import os\n",
    "from dotenv import load_dotenv\n",
    "\n",
    "load_dotenv()\n",
    "\n",
    "\n",
    "def get_city_temp(api_key, base_url, city):\n",
    "    try:\n",
    "        print(\"Для получения информации о погоде введите название города: \")\n",
    "        url = f\"{base_url}?q={city}&units=metric&lang=ru&appid={api_key}\"\n",
    "        response = requests.get(url).json()\n",
    "        print(\n",
    "            f\"На данный момент температура в городе {city} {response['main']['temp']}\"\n",
    "        )\n",
    "    except KeyError:\n",
    "        print(f\"Допущена ошибка в названии города {city}!\")\n",
    "\n",
    "\n",
    "api_key = os.environ.get(\"API_KEY\")\n",
    "base_url = \"https://api.openweathermap.org/data/2.5/weather\"\n",
    "city = input(\"Название города: \")\n",
    "get_city_temp(api_key, base_url, city)"
   ]
  }
 ],
 "metadata": {
  "kernelspec": {
   "display_name": "venv",
   "language": "python",
   "name": "python3"
  },
  "language_info": {
   "codemirror_mode": {
    "name": "ipython",
    "version": 3
   },
   "file_extension": ".py",
   "mimetype": "text/x-python",
   "name": "python",
   "nbconvert_exporter": "python",
   "pygments_lexer": "ipython3",
   "version": "3.13.1"
  }
 },
 "nbformat": 4,
 "nbformat_minor": 2
}
