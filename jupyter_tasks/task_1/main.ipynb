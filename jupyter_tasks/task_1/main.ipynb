{
 "cells": [
  {
   "cell_type": "markdown",
   "metadata": {},
   "source": [
    "### Задание 1\n",
    "\n",
    "Дана переменная, в которой хранится слово из латинских букв.\n",
    "\n",
    "Напишите код, который выводит на экран:\n",
    "* среднюю букву, если число букв в слове нечётное;\n",
    "* две средних буквы, если число букв чётное."
   ]
  },
  {
   "cell_type": "code",
   "execution_count": 9,
   "metadata": {},
   "outputs": [
    {
     "name": "stdout",
     "output_type": "stream",
     "text": [
      "rt\n"
     ]
    }
   ],
   "source": [
    "word: str = 'tesrting'\n",
    "\n",
    "word_len: int = len(word)\n",
    "\n",
    "if word_len % 2 == 0:\n",
    "    print(word[(word_len // 2) - 1] + word[word_len // 2])\n",
    "else:\n",
    "    print(word[word_len // 2])"
   ]
  },
  {
   "cell_type": "markdown",
   "metadata": {},
   "source": [
    "### Задание 2\n",
    "\n",
    "Вы делаете MVP (минимально жизнеспособный продукт) dating-сервиса.\n",
    "\n",
    "У вас есть список юношей и девушек.\n",
    "\n",
    "Выдвигаем гипотезу: лучшие рекомендации получатся, если просто отсортировать\n",
    "имена по алфавиту и познакомить людей с одинаковыми индексами после сортировки.\n",
    "\n",
    "Но вы не будете никого знакомить, если кто-то может остаться без пары."
   ]
  },
  {
   "cell_type": "code",
   "execution_count": 16,
   "metadata": {},
   "outputs": [
    {
     "name": "stdout",
     "output_type": "stream",
     "text": [
      "Идеальные пары:\n",
      "Alex и Emily\n",
      "Arthur и Emma\n",
      "John и Kate\n",
      "Peter и Kira\n",
      "Richard и Liza\n"
     ]
    }
   ],
   "source": [
    "boys: list = ['Peter', 'Alex', 'John', 'Arthur', 'Richard']\n",
    "girls: list = ['Kate', 'Liza', 'Kira', 'Emma', 'Emily']\n",
    "\n",
    "if len(boys) == len(girls):\n",
    "    print('Идеальные пары:')\n",
    "    for boy, girl in zip(sorted(boys), sorted(girls)):\n",
    "        print(f'{boy} и {girl}')\n",
    "else:\n",
    "    print('Внимание, кто-то может остаться без пары')"
   ]
  }
 ],
 "metadata": {
  "kernelspec": {
   "display_name": "venv",
   "language": "python",
   "name": "python3"
  },
  "language_info": {
   "codemirror_mode": {
    "name": "ipython",
    "version": 3
   },
   "file_extension": ".py",
   "mimetype": "text/x-python",
   "name": "python",
   "nbconvert_exporter": "python",
   "pygments_lexer": "ipython3",
   "version": "3.13.1"
  }
 },
 "nbformat": 4,
 "nbformat_minor": 2
}
