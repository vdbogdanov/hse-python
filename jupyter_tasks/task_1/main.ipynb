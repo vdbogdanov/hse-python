{
 "cells": [
  {
   "cell_type": "markdown",
   "metadata": {},
   "source": [
    "### Задание 1\n",
    "\n",
    "Написать код на Python в среде Jupyter Notebook для решения следующей задачи.\n",
    "\n",
    "Дана переменная, в которой хранится слово из латинских букв. Напишите код, который выводит на экран:\n",
    "\n",
    "* среднюю букву, если число букв в слове нечётное;\n",
    "* две средних буквы, если число букв чётное.\n",
    "\n",
    "Пример работы программы:\n",
    "1. word = 'test' Результат: es\n",
    "2. word = 'testing' Результат: t"
   ]
  },
  {
   "cell_type": "code",
   "execution_count": null,
   "metadata": {},
   "outputs": [
    {
     "name": "stdout",
     "output_type": "stream",
     "text": [
      "t\n"
     ]
    }
   ],
   "source": [
    "word: str = 'testing'\n",
    "\n",
    "word_len: int = len(word)\n",
    "\n",
    "match word_len % 2:\n",
    "    case 0:\n",
    "        print(word[word_len - 3] + word[word_len - 2])\n",
    "    case _:\n",
    "        print(word[word_len // 2])"
   ]
  },
  {
   "cell_type": "markdown",
   "metadata": {},
   "source": [
    "### Задание 2\n",
    "\n",
    "Написать код на Python в среде Jupyter Notebook для решения следующей задачи.\n",
    "\n",
    "Вы делаете MVP (минимально жизнеспособный продукт) dating-сервиса.\n",
    "У вас есть список юношей и девушек. Выдвигаем гипотезу: лучшие рекомендации получатся, если просто\n",
    "отсортировать имена по алфавиту и познакомить людей с одинаковыми\n",
    "индексами после сортировки. Но вы не будете никого знакомить, если кто-то\n",
    "может остаться без пары.\n",
    "\n",
    "Примеры работы программы:\n",
    "\n",
    "boys = ['Peter', 'Alex', 'John', 'Arthur', 'Richard']\n",
    "girls = ['Kate', 'Liza', 'Kira', 'Emma', 'Trisha']\n",
    "\n",
    "Результат:\n",
    "\n",
    "Идеальные пары:\n",
    "Alex и Emma\n",
    "Arthur и Kate\n",
    "John и Kira\n",
    "Peter и Liza\n",
    "Richard и Trisha\n",
    "\n",
    "boys = ['Peter', 'Alex', 'John', 'Arthur', 'Richard', 'Michael']\n",
    "girls = ['Kate', 'Liza', 'Kira', 'Emma', 'Trisha']\n",
    "\n",
    "Результат: Внимание, кто-то может остаться без пары"
   ]
  },
  {
   "cell_type": "code",
   "execution_count": null,
   "metadata": {},
   "outputs": [
    {
     "name": "stdout",
     "output_type": "stream",
     "text": [
      "Внимание, кто-то может остаться без пары\n"
     ]
    }
   ],
   "source": [
    "boys: list = ['Peter', 'Alex', 'John', 'Arthur', 'Richard']\n",
    "girls: list = ['Kate', 'Liza', 'Kira', 'Emma']\n",
    "\n",
    "match len(boys) == len(girls):\n",
    "    case True:\n",
    "        print('Идеальные пары:')\n",
    "        for i in range(len(boys)):\n",
    "            print(boys[i],'и',girls[i] )\n",
    "    case False:\n",
    "        print('Внимание, кто-то может остаться без пары')"
   ]
  }
 ],
 "metadata": {
  "kernelspec": {
   "display_name": "venv",
   "language": "python",
   "name": "python3"
  },
  "language_info": {
   "codemirror_mode": {
    "name": "ipython",
    "version": 3
   },
   "file_extension": ".py",
   "mimetype": "text/x-python",
   "name": "python",
   "nbconvert_exporter": "python",
   "pygments_lexer": "ipython3",
   "version": "3.13.0"
  }
 },
 "nbformat": 4,
 "nbformat_minor": 2
}
