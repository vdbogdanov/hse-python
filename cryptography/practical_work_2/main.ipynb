{
 "cells": [
  {
   "cell_type": "markdown",
   "metadata": {},
   "source": [
    "## Реализация алгоритма шифрования RSA"
   ]
  },
  {
   "cell_type": "markdown",
   "metadata": {},
   "source": [
    "### Алгоритм генерации ключей"
   ]
  },
  {
   "cell_type": "markdown",
   "metadata": {},
   "source": [
    "1. Пользователь A генерирует два больших простых числа p и q, отличных друг от друга. При этом |p-q| – большое число, хотя p и q имеют приблизительно одинаковый битовый размер."
   ]
  },
  {
   "cell_type": "code",
   "execution_count": 1,
   "metadata": {},
   "outputs": [],
   "source": [
    "from sympy import randprime\n",
    "\n",
    "def gen_simple_numbers(bits):\n",
    "    \"\"\"\n",
    "    Функция для генерации простых чисел.\n",
    "    При этом |p-q| – большое число, хотя p и q имеют приблизительно одинаковый битовый размер.\n",
    "    \"\"\"\n",
    "    while True:\n",
    "        p = randprime(2 ** (bits - 1), 2**bits - 1)\n",
    "        q = randprime(2 ** (bits - 1), 2**bits - 1)\n",
    "        if p != q and abs(p - q) > 2 ** (bits // 2):\n",
    "            return p, q"
   ]
  },
  {
   "cell_type": "markdown",
   "metadata": {},
   "source": [
    "2. Держа p и q в секрете, Пользователь A вычисляет их произведение n=pq, которое называют модулем алгоритма."
   ]
  },
  {
   "cell_type": "code",
   "execution_count": 2,
   "metadata": {},
   "outputs": [],
   "source": [
    "def algorithm_module(p, q):\n",
    "    \"\"\"\n",
    "    Функция для вычисления модуля алгоритма.\n",
    "    \"\"\"\n",
    "    return p * q"
   ]
  },
  {
   "cell_type": "markdown",
   "metadata": {},
   "source": [
    "3. Пользователь A вычисляет значение функции Эйлера для n по формуле φ(n)=(p-1)(q-1)."
   ]
  },
  {
   "cell_type": "code",
   "execution_count": 3,
   "metadata": {},
   "outputs": [],
   "source": [
    "def euler_function(p, q):\n",
    "    \"\"\"\n",
    "    Функция для вычисления значения функции Эйлера.\n",
    "    \"\"\"\n",
    "    return (p - 1) * (q - 1)"
   ]
  },
  {
   "cell_type": "markdown",
   "metadata": {},
   "source": [
    "4. Пользователь A выбирает целое число e, взаимно простое со значением функции φ(n). Это число называется экспонентой зашифрования."
   ]
  },
  {
   "cell_type": "code",
   "execution_count": 4,
   "metadata": {},
   "outputs": [],
   "source": [
    "from secrets import randbits\n",
    "from math import gcd\n",
    "\n",
    "def exponent_encryption(phi):\n",
    "    \"\"\"\n",
    "    Функция для вычисления значения экспоненты зашифрования.\n",
    "    \"\"\"\n",
    "    while True:\n",
    "        e = randbits(16)\n",
    "        if gcd(e, phi) == 1:\n",
    "            return e"
   ]
  },
  {
   "cell_type": "markdown",
   "metadata": {},
   "source": [
    "5. Пользователь A применяет расширенный алгоритм Евклида к паре чисел e и φ(n) и вычисляет значение d, удовлетворяющее соотношению ed≡1 mod φ(n). Это значение называется экспонентой расшифрования."
   ]
  },
  {
   "cell_type": "code",
   "execution_count": 5,
   "metadata": {},
   "outputs": [],
   "source": [
    "def gen_private_key(e, phi):\n",
    "    \"\"\"\n",
    "    Функция для вычисления значения закрытого ключа.\n",
    "    \"\"\"\n",
    "    return pow(e, -1, phi)"
   ]
  },
  {
   "cell_type": "markdown",
   "metadata": {},
   "source": [
    "6. Пара (e,n) публикуется в качестве открытого ключа пользователя A, d является закрытым ключом и держится в секрете."
   ]
  },
  {
   "attachments": {},
   "cell_type": "markdown",
   "metadata": {},
   "source": [
    "### Алгоритм зашифрования"
   ]
  },
  {
   "cell_type": "code",
   "execution_count": 6,
   "metadata": {},
   "outputs": [],
   "source": [
    "from base64 import b64encode, b64decode\n",
    "\n",
    "def rsa_encryption(message, e, n):\n",
    "    \"\"\"\n",
    "    Функция для зашифрования сообщения с использованием алгоритма RSA.\n",
    "    \"\"\"\n",
    "    bytes_data_encoded = b64encode(message.encode(\"utf-8\"))\n",
    "    block_size = (n.bit_length() - 1) // 8  # Размер блока\n",
    "    blocks_encoded = [\n",
    "        bytes_data_encoded[i : i + block_size]\n",
    "        for i in range(0, len(bytes_data_encoded), block_size)\n",
    "    ]\n",
    "\n",
    "    for i in range(len(blocks_encoded)):\n",
    "        blocks_encoded[i] = int.from_bytes(blocks_encoded[i], byteorder=\"big\")\n",
    "\n",
    "    blocks_encrypted = [pow(block, e, n) for block in blocks_encoded]\n",
    "\n",
    "    return blocks_encrypted"
   ]
  },
  {
   "cell_type": "markdown",
   "metadata": {},
   "source": [
    "### Алгоритм расшифрования"
   ]
  },
  {
   "cell_type": "code",
   "execution_count": 7,
   "metadata": {},
   "outputs": [],
   "source": [
    "def rsa_decryption(blocks_encrypted, n, d):\n",
    "    \"\"\"\n",
    "    Функция для расшифровки сообщения с использованием алгоритма RSA.\n",
    "    \"\"\"\n",
    "    blocks_decrypted = [pow(block, d, n) for block in blocks_encrypted]\n",
    "    blocks_decoded = [\n",
    "        block.to_bytes((block.bit_length() + 7) // 8, byteorder=\"big\")\n",
    "        for block in blocks_decrypted\n",
    "    ]\n",
    "    reassembled = b\"\".join(blocks_decoded)\n",
    "    message = b64decode(reassembled).decode(\"utf-8\")\n",
    "    return message"
   ]
  },
  {
   "cell_type": "markdown",
   "metadata": {},
   "source": [
    "### Вывод результатов"
   ]
  },
  {
   "cell_type": "code",
   "execution_count": 8,
   "metadata": {},
   "outputs": [
    {
     "name": "stdout",
     "output_type": "stream",
     "text": [
      "\n",
      "Открытый ключ:\n",
      "e = 13379\n",
      "n = 25287962768236181766834785377338875135944480016901063117346915095432207869742289331616940647370347108601057092053405665471138967798235681501624002217317159789661470195431613608735209881022622439775107914707798233304398103459326479493202418986186112462990663609990994228866273564832499133832430283894110431072507984743513820914375547799547748093584123764751369679392031535768298326908682168735173578643410112800104919717938822441959994660888045721659307737956963843929118287414521021800336778870133680102624298558737971482291863151869369737629723096983032181712732519913039458926449336588887623533268558037775844276589\n",
      "\n",
      "Закрытый ключ:\n",
      "d = 16287194496889990155080001913187015998687015793828870684070436308942322685818768754805529378757028255834913593110411586767681028889857004820950297264864486576538821187983721837691255216740558903022804761270431076790791423687048080857532345048506295769010430400425472551770736176706902237553931665768409416589360300236922542137534292745020180493963401586260280549412849235825421858560723288764304663441729350649813360477045416348277773734870721918585439913084181224044327495507821618859041702019136631416762665313203464452954808182472933774087644206560305868058323795434935281045132812070702856350470527091788625231339\n",
      "\n",
      "Зашифрованное сообщение:\n",
      "[2051805372832572888542457928383236565703475940301241946770583443750106451729491482043991097425424098285849080005283823216462126431415105055120685284731598251375106135673826918310994418712789081108386137656074184046049902968452564664380678587256910189990685058511407498976656712089313212404344975654810775998514950975228964893227062087898107368564121846442697995798324177127763818980377250241571177541599398393221591681394966707140981369442635913019657274074197990533703670474030033658520831952193380088319162316326278741346100256091811632548020174434840381237427866562428827730558722107717345467874376363916978692724]\n",
      "\n",
      "Расшифрованное сообщение:\n",
      "HELLO\n"
     ]
    }
   ],
   "source": [
    "message_original = \"HELLO\"\n",
    "# message_original = input(\"Введите сообщение: \")\n",
    "\n",
    "p, q = gen_simple_numbers(1024)\n",
    "n = algorithm_module(p, q)\n",
    "phi = euler_function(p, q)\n",
    "e = exponent_encryption(phi)\n",
    "d = gen_private_key(e, phi)\n",
    "blocks_encrypted = rsa_encryption(message_original, e, n)\n",
    "message_decrypted = rsa_decryption(blocks_encrypted, n, d)\n",
    "\n",
    "# Генерация ключевых пар\n",
    "# Шифрование текста\n",
    "# Расшифрование текста\n",
    "\n",
    "print(\"\")\n",
    "print(f\"Открытый ключ:\\ne = {e}\\nn = {n}\\n\")\n",
    "print(f\"Закрытый ключ:\\nd = {d}\\n\")\n",
    "print(f\"Зашифрованное сообщение:\\n{blocks_encrypted}\\n\")\n",
    "print(f\"Расшифрованное сообщение:\\n{message_decrypted}\")"
   ]
  }
 ],
 "metadata": {
  "kernelspec": {
   "display_name": "Python 3 (ipykernel)",
   "language": "python",
   "name": "python3"
  },
  "language_info": {
   "codemirror_mode": {
    "name": "ipython",
    "version": 3
   },
   "file_extension": ".py",
   "mimetype": "text/x-python",
   "name": "python",
   "nbconvert_exporter": "python",
   "pygments_lexer": "ipython3",
   "version": "3.13.2"
  }
 },
 "nbformat": 4,
 "nbformat_minor": 4
}
