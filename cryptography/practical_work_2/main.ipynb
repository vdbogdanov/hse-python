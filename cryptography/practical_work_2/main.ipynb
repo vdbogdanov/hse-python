{
 "cells": [
  {
   "cell_type": "markdown",
   "metadata": {},
   "source": [
    "## Реализация алгоритма шифрования RSA"
   ]
  },
  {
   "cell_type": "markdown",
   "metadata": {},
   "source": [
    "### Алгоритм генерации ключей"
   ]
  },
  {
   "cell_type": "markdown",
   "metadata": {},
   "source": [
    "1. Пользователь A генерирует два больших простых числа p и q, отличных друг от друга. При этом |p-q| – большое число, хотя p и q имеют приблизительно одинаковый битовый размер."
   ]
  },
  {
   "cell_type": "code",
   "execution_count": 1,
   "metadata": {},
   "outputs": [],
   "source": [
    "from sympy import randprime\n",
    "\n",
    "def gen_simple_numbers(bits):\n",
    "    \"\"\"\n",
    "    Функция для генерации простых чисел с заданным битовым размером.\n",
    "    \"\"\"\n",
    "    while True:\n",
    "        # функция randprime генерирует простое число с заданным битовым размером\n",
    "        p = randprime(2 ** (bits - 1), 2**bits - 1)\n",
    "        q = randprime(2 ** (bits - 1), 2**bits - 1)\n",
    "\n",
    "        # проверка соответствия условию\n",
    "        # |p-q| – большое число, хотя p и q имеют приблизительно одинаковый битовый размер.\n",
    "        if p != q and abs(p - q) > 2 ** (bits // 2):\n",
    "            return p, q"
   ]
  },
  {
   "cell_type": "markdown",
   "metadata": {},
   "source": [
    "2. Держа p и q в секрете, Пользователь A вычисляет их произведение n=pq, которое называют модулем алгоритма."
   ]
  },
  {
   "cell_type": "code",
   "execution_count": 2,
   "metadata": {},
   "outputs": [],
   "source": [
    "def algorithm_module(p, q):\n",
    "    \"\"\"\n",
    "    Функция для вычисления модуля алгоритма.\n",
    "    \"\"\"\n",
    "    return p * q"
   ]
  },
  {
   "cell_type": "markdown",
   "metadata": {},
   "source": [
    "3. Пользователь A вычисляет значение функции Эйлера для n по формуле φ(n)=(p-1)(q-1)."
   ]
  },
  {
   "cell_type": "code",
   "execution_count": 3,
   "metadata": {},
   "outputs": [],
   "source": [
    "def euler_function(p, q):\n",
    "    \"\"\"\n",
    "    Функция для вычисления значения функции Эйлера.\n",
    "    \"\"\"\n",
    "    return (p - 1) * (q - 1)"
   ]
  },
  {
   "cell_type": "markdown",
   "metadata": {},
   "source": [
    "4. Пользователь A выбирает целое число e, взаимно простое со значением функции φ(n). Это число называется экспонентой зашифрования."
   ]
  },
  {
   "cell_type": "code",
   "execution_count": 4,
   "metadata": {},
   "outputs": [],
   "source": [
    "from secrets import randbits\n",
    "from math import gcd\n",
    "\n",
    "def exponent_encryption(phi):\n",
    "    \"\"\"\n",
    "    Функция для вычисления значения экспоненты зашифрования.\n",
    "    \"\"\"\n",
    "    while True:\n",
    "        # генерация случайного 16-битного числа с помощью функции randbits\n",
    "        e = randbits(16)\n",
    "\n",
    "        # проверка на взаимную простоту значений функции Эйлера и сгенерированного\n",
    "        # случаного числа с помощью функции gcd\n",
    "        if gcd(e, phi) == 1:\n",
    "            return e"
   ]
  },
  {
   "cell_type": "markdown",
   "metadata": {},
   "source": [
    "5. Пользователь A применяет расширенный алгоритм Евклида к паре чисел e и φ(n) и вычисляет значение d, удовлетворяющее соотношению ed≡1 mod φ(n). Это значение называется экспонентой расшифрования."
   ]
  },
  {
   "cell_type": "code",
   "execution_count": 5,
   "metadata": {},
   "outputs": [],
   "source": [
    "def gen_private_key(e, phi):\n",
    "    \"\"\"\n",
    "    Функция для вычисления значения закрытого ключа.\n",
    "    \"\"\"\n",
    "    # функция pow используется для возведения числа в степень по модулю\n",
    "    # в основе логики лежит \"метод двоичного возведения в степень\"\n",
    "    return pow(e, -1, phi)"
   ]
  },
  {
   "cell_type": "markdown",
   "metadata": {},
   "source": [
    "6. Пара (e,n) публикуется в качестве открытого ключа пользователя A, d является закрытым ключом и держится в секрете."
   ]
  },
  {
   "attachments": {},
   "cell_type": "markdown",
   "metadata": {},
   "source": [
    "### Алгоритм зашифрования"
   ]
  },
  {
   "cell_type": "code",
   "execution_count": 6,
   "metadata": {},
   "outputs": [],
   "source": [
    "from base64 import b64encode, b64decode\n",
    "\n",
    "def rsa_encryption(message, e, n):\n",
    "    \"\"\"\n",
    "    Функция для зашифрования сообщения с использованием алгоритма RSA.\n",
    "    \"\"\"\n",
    "    # кодирование исходного сообщения в \"utf-8\" и затем кодирование в base64\n",
    "    bytes_data_encoded = b64encode(message.encode(\"utf-8\"))\n",
    "\n",
    "    # рассчет оптимального размера блока для шифрования\n",
    "    block_size = (n.bit_length() - 1) // 8\n",
    "\n",
    "    # разбиение закодированного исходного сообщения на блоки\n",
    "    blocks_encoded = [\n",
    "        bytes_data_encoded[i : i + block_size]\n",
    "        for i in range(0, len(bytes_data_encoded), block_size)\n",
    "    ]\n",
    "\n",
    "    # преобразование каждого блока байтов в челое число\n",
    "    for i in range(len(blocks_encoded)):\n",
    "        blocks_encoded[i] = int.from_bytes(blocks_encoded[i], byteorder=\"big\")\n",
    "\n",
    "    # шифрование каждого блока исходного сообщения открытыми ключами e и n\n",
    "    blocks_encrypted = [pow(block, e, n) for block in blocks_encoded]\n",
    "\n",
    "    return blocks_encrypted"
   ]
  },
  {
   "cell_type": "markdown",
   "metadata": {},
   "source": [
    "### Алгоритм расшифрования"
   ]
  },
  {
   "cell_type": "code",
   "execution_count": 7,
   "metadata": {},
   "outputs": [],
   "source": [
    "def rsa_decryption(blocks_encrypted, n, d):\n",
    "    \"\"\"\n",
    "    Функция для расшифровки сообщения с использованием алгоритма RSA.\n",
    "    \"\"\"\n",
    "    # расшифрование каждого блока исходного сообщения закрытым ключем d и открытым ключем n\n",
    "    blocks_decrypted = [pow(block, d, n) for block in blocks_encrypted]\n",
    "\n",
    "    # преобразование расшифрованных числовых блоков обратно в байты\n",
    "    # для каждого блока определяем необходимый размер в байтах и преобразуем\n",
    "    # (bit_length() + 7) // 8 - формула для вычисления количества байт, необходимых для хранения числа\n",
    "    blocks_decoded = [\n",
    "        block.to_bytes((block.bit_length() + 7) // 8, byteorder=\"big\")\n",
    "        for block in blocks_decrypted\n",
    "    ]\n",
    "\n",
    "    # Сборка всех байтовых блоков в единую байтовую строку\n",
    "    reassembled = b\"\".join(blocks_decoded)\n",
    "\n",
    "    # Декодирование из base64 и преобразование в utf-8 строку\n",
    "    message = b64decode(reassembled).decode(\"utf-8\")\n",
    "    \n",
    "    return message"
   ]
  },
  {
   "cell_type": "markdown",
   "metadata": {},
   "source": [
    "### Тело программы"
   ]
  },
  {
   "cell_type": "code",
   "execution_count": 10,
   "metadata": {},
   "outputs": [
    {
     "name": "stdout",
     "output_type": "stream",
     "text": [
      "\n",
      "Выберите действие:\n",
      "1. Генерация ключевых пар\n",
      "2. Шифрование текста\n",
      "3. Расшифрование текста\n",
      "4. Выход\n"
     ]
    },
    {
     "name": "stdin",
     "output_type": "stream",
     "text": [
      ">  3\n",
      "\n",
      "Введите зашифрованное сообщение:  782807357 2275514703 1284166791 574946770 2244577172 188200659 98109902 2050191370 298922358 1174015503 2405703483 103829573 2229403252 2275514703 2064841360 1457144120 1501082683 1426957373 1284166791 2931496822 1262761751 1646379569 871595177 1500687081 2360287916 2477096232 2836195676 1071682518 57766173 2275514703 452101542 821284826 519206889 2243296851\n",
      "\n",
      "Введите открытый ключ n:  2940774847\n",
      "\n",
      "Введите закрытый ключ d:  747117385\n"
     ]
    },
    {
     "name": "stdout",
     "output_type": "stream",
     "text": [
      "\n",
      "Расшифрованное сообщение:\n",
      "Реализация процесса зашифрования текста\n",
      "\n",
      "Выберите действие:\n",
      "1. Генерация ключевых пар\n",
      "2. Шифрование текста\n",
      "3. Расшифрование текста\n",
      "4. Выход\n"
     ]
    },
    {
     "name": "stdin",
     "output_type": "stream",
     "text": [
      ">  4\n"
     ]
    },
    {
     "name": "stdout",
     "output_type": "stream",
     "text": [
      "\n",
      "Выход из программы.\n"
     ]
    }
   ],
   "source": [
    "while True:\n",
    "    print(\"\\nВыберите действие:\")\n",
    "    print(\"1. Генерация ключевых пар\")\n",
    "    print(\"2. Шифрование текста\")\n",
    "    print(\"3. Расшифрование текста\")\n",
    "    print(\"4. Выход\")\n",
    "    \n",
    "    choice = input(\"> \")\n",
    "    \n",
    "    if choice == \"1\":\n",
    "        # bits = int(input(\"\\nВведите битовый размер для p, q: \"))\n",
    "        p, q = gen_simple_numbers(16)\n",
    "        n = algorithm_module(p, q)\n",
    "        phi = euler_function(p, q)\n",
    "        e = exponent_encryption(phi)\n",
    "        d = gen_private_key(e, phi)\n",
    "        print(f\"\\nОткрытый ключ:\\ne = {e}\\nn = {n}\")\n",
    "        print(f\"\\nЗакрытый ключ:\\nd = {d}\\n\")\n",
    "    elif choice == \"2\":\n",
    "        message_original = input(\"\\nВведите исходное сообщение: \")\n",
    "        e = int(input(\"\\nВведите открытый ключ e: \"))\n",
    "        n = int(input(\"\\nВведите открытый ключ n: \"))\n",
    "        blocks_encrypted = rsa_encryption(message_original, e, n)\n",
    "        print(f\"\\nЗашифрованное сообщение:\\n{' '.join(map(str, blocks_encrypted))}\")\n",
    "    elif choice == \"3\":\n",
    "        blocks_encrypted = list(map(int, input(\"\\nВведите зашифрованное сообщение: \").split()))\n",
    "        n = int(input(\"\\nВведите открытый ключ n: \"))\n",
    "        d = int(input(\"\\nВведите закрытый ключ d: \"))\n",
    "        blocks_decrypted = rsa_decryption(blocks_encrypted, n, d)\n",
    "        print(f\"\\nРасшифрованное сообщение:\\n{blocks_decrypted}\")\n",
    "    elif choice == \"4\":\n",
    "        print(\"\\nВыход из программы.\")\n",
    "        break\n",
    "    else:\n",
    "        print(\"\\nНеверный ввод. Попробуйте снова.\")"
   ]
  },
  {
   "cell_type": "markdown",
   "metadata": {},
   "source": [
    "## Реализация атаки Ферма на криптосистему RSA"
   ]
  },
  {
   "cell_type": "code",
   "execution_count": 11,
   "metadata": {},
   "outputs": [
    {
     "name": "stdout",
     "output_type": "stream",
     "text": [
      "Закрытый ключ d = 747117385\n"
     ]
    }
   ],
   "source": [
    "import math\n",
    "from math import isqrt\n",
    "from sympy import mod_inverse\n",
    "\n",
    "def fermat_factorization(n):\n",
    "    \"\"\"Факторизация n методом Ферма (если p и q близки)\"\"\"\n",
    "    a = isqrt(n) + 1  # округляем вверх\n",
    "    b_squared = a * a - n\n",
    "    while not math.isqrt(b_squared) ** 2 == b_squared:\n",
    "        a += 1\n",
    "        b_squared = a * a - n\n",
    "    b = isqrt(b_squared)\n",
    "    p = a + b\n",
    "    q = a - b\n",
    "    return p, q\n",
    "\n",
    "def find_private_key(e, n):\n",
    "    \"\"\"Находит закрытый ключ d, зная e и n\"\"\"\n",
    "    p, q = fermat_factorization(n)\n",
    "    phi = (p - 1) * (q - 1)\n",
    "    d = mod_inverse(e, phi)\n",
    "    return d\n",
    "\n",
    "# Открытый ключ\n",
    "e = 35617\n",
    "n = 2940774847\n",
    "\n",
    "# Находим закрытый ключ\n",
    "d = find_private_key(e, n)\n",
    "print(f\"Закрытый ключ d = {d}\")"
   ]
  }
 ],
 "metadata": {
  "kernelspec": {
   "display_name": "Python 3 (ipykernel)",
   "language": "python",
   "name": "python3"
  },
  "language_info": {
   "codemirror_mode": {
    "name": "ipython",
    "version": 3
   },
   "file_extension": ".py",
   "mimetype": "text/x-python",
   "name": "python",
   "nbconvert_exporter": "python",
   "pygments_lexer": "ipython3",
   "version": "3.13.3"
  }
 },
 "nbformat": 4,
 "nbformat_minor": 4
}
